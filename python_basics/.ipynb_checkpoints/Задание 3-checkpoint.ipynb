{
 "cells": [
  {
   "cell_type": "code",
   "execution_count": null,
   "metadata": {},
   "outputs": [],
   "source": [
    "date = input(\"Введите день рождения: \")\n",
    "month = input(\"Введите месяц рождения: \")\n",
    "if ((month == 'январь' and 20 <= date <= 31 or month == 'февраль' and 1 <= date <= 19) or (month == 'Январь' and 20 <= date <= 31 or month == 'Февраль' and 1 <= date <= 19)):\n",
    "    print(\"Ваш знак зодиака: Водолей\")\n",
    "elif ((month == 'февраль' and 20 <= date <= 29 or month == 'март' and 1 <= date <= 20) or (month == 'Февраль' and 20 <= date <= 29 or month == 'Март' and 1 <= date <= 20)):\n",
    "    print('Рыбы')\n",
    "elif ((month == 'март' and 21 <= date <= 31 or month == 'апрель' and 1 <= date <= 19) or (month == 'Март' and 21 <= date <= 31 or month == 'Апрель' and 1 <= date <= 19)):\n",
    "    print('Овен')\n",
    "elif ((month == 'апрель' and 20 <= date <= 30 or month == 'май' and 1 <= date <= 20) or (month == 'Апрель' and 20 <= date <= 30 or month == 'Май' and 1 <= date <= 20)):\n",
    "    print('Телец')\n",
    "elif ((month == 'май' and 21 <= date <= 31 or month == 'июнь' and 1 <= date <= 20) or (month == 'Май' and 21 <= date <= 31 or month == 'Июнь' and 1 <= date <= 20)):\n",
    "    print('Близнецы')\n",
    "elif ((month == 'июнь' and 21 <= date <= 30 or month == 'июль' and 1 <= date <= 22) or (month == 'Июнь' and 21 <= date <= 30 or month == 'Июль' and 1 <= date <= 22)):\n",
    "    print('Рак')\n",
    "elif ((month == 'июль' and 23 <= date <= 31 or month == 'август' and 1 <= date <= 22) or (month == 'Июль' and 23 <= date <= 31 or month == 'Август' and 1 <= date <= 22)):\n",
    "    print('Лев')\n",
    "elif ((month == 'август' and 23 <= date <= 31 or month == 'сентябрь' and 1 <= date <= 22) or (month == 'Август' and 23 <= date <= 31 or month == 'Сентябрь' and 1 <= date <= 22)):\n",
    "    print('Дева')\n",
    "elif ((month == 'сентябрь' and 23 <= date <= 30 or month == 'октябрь' and 1 <= date <= 23) or (month == 'Сентябрь' and 23 <= date <= 30 or month == 'Октябрь' and 1 <= date <= 23)):\n",
    "    print('Весы')\n",
    "elif ((month == 'октябрь' and 24 <= date <= 31 or month == 'ноябрь' and 1 <= date <= 22) or (month == 'Октябрь' and 24 <= date <= 31 or month == 'Ноябрь' and 1 <= date <= 22)):\n",
    "    print('Скорпион')\n",
    "elif ((month == 'ноябрь' and 23 <= date <= 30 or month == 'январь' and 1 <= date <= 19) or (month == 'Ноябрь' and 23 <= date <= 30 or month == 'Январь' and 1 <= date <= 19)):\n",
    "    print('Стрелец')"
   ]
  }
 ],
 "metadata": {
  "kernelspec": {
   "display_name": "Python 3",
   "language": "python",
   "name": "python3"
  },
  "language_info": {
   "codemirror_mode": {
    "name": "ipython",
    "version": 3
   },
   "file_extension": ".py",
   "mimetype": "text/x-python",
   "name": "python",
   "nbconvert_exporter": "python",
   "pygments_lexer": "ipython3",
   "version": "3.7.6"
  }
 },
 "nbformat": 4,
 "nbformat_minor": 4
}
