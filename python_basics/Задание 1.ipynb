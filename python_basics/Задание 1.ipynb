{
 "cells": [
  {
   "cell_type": "code",
   "execution_count": 14,
   "metadata": {},
   "outputs": [
    {
     "name": "stdout",
     "output_type": "stream",
     "text": [
      "Фраза 1 длиннее фразы 2\n"
     ]
    }
   ],
   "source": [
    "phrase_1 = 'В целом в Дании в мае и июне, когда проводилось исследование, не было масочного режима и каких-либо централизованных ограничений мобильности населения'\n",
    "phrase_2 = 'Действовал только режим карантина для выявленных зараженных и рекомендации по социальному дистанцированию.'\n",
    "len(phrase_1) == len(phrase_2) \n",
    "if phrase_1 < phrase_2:\n",
    "    print('Фраза 1 длиннее фразы 2')\n",
    "elif phrase_1 > phrase_2:\n",
    "    print('Фраза 2 длиннее фразы 1')\n",
    "else: \n",
    "    print ('Фразы одинаковы')"
   ]
  }
 ],
 "metadata": {
  "celltoolbar": "Raw Cell Format",
  "kernelspec": {
   "display_name": "Python 3",
   "language": "python",
   "name": "python3"
  },
  "language_info": {
   "codemirror_mode": {
    "name": "ipython",
    "version": 3
   },
   "file_extension": ".py",
   "mimetype": "text/x-python",
   "name": "python",
   "nbconvert_exporter": "python",
   "pygments_lexer": "ipython3",
   "version": "3.7.6"
  }
 },
 "nbformat": 4,
 "nbformat_minor": 4
}
