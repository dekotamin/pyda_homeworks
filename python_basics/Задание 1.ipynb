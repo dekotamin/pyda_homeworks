{
 "cells": [
  {
   "cell_type": "code",
   "execution_count": 4,
   "metadata": {},
   "outputs": [
    {
     "name": "stdout",
     "output_type": "stream",
     "text": [
      "Фраза 2 длиннее фразы 1\n"
     ]
    }
   ],
   "source": [
    "phrase_1 = 'Эффективность в данном случае — способность масок защищать людей от заражения'\n",
    "phrase_2 = 'Администрацию Байдена называют первопроходческой, имея в виду, что в ней различные высокие должности впервые занимают женщины или представители этнических или расовых меньшинств'\n",
    "phrase_1 == phrase_2 \n",
    "if phrase_1 < phrase_2:\n",
    "    print('Фраза 1 длиннее фразы 2')\n",
    "elif phrase_1 > phrase_2:\n",
    "    print('Фраза 2 длиннее фразы 1')\n",
    "else: \n",
    "    print ('Фразы одинаковы')"
   ]
  }
 ],
 "metadata": {
  "celltoolbar": "Raw Cell Format",
  "kernelspec": {
   "display_name": "Python 3",
   "language": "python",
   "name": "python3"
  },
  "language_info": {
   "codemirror_mode": {
    "name": "ipython",
    "version": 3
   },
   "file_extension": ".py",
   "mimetype": "text/x-python",
   "name": "python",
   "nbconvert_exporter": "python",
   "pygments_lexer": "ipython3",
   "version": "3.7.6"
  }
 },
 "nbformat": 4,
 "nbformat_minor": 4
}
