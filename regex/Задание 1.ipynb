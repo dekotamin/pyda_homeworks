{
 "cells": [
  {
   "cell_type": "code",
   "execution_count": 7,
   "metadata": {},
   "outputs": [
    {
     "name": "stdout",
     "output_type": "stream",
     "text": [
      "Введите номер: АБ22ВВ193\n",
      "Результат: Номер АБ22ВВ193 не валиден\n"
     ]
    }
   ],
   "source": [
    "import re \n",
    "car_id = input(\"Введите номер: \")\n",
    "reg = re.compile(r'^[АВЕКМНОРСТУХ]\\d{3}[АВЕКМНОРСТУХ]{2}(?P<reg>\\d{2,3})$')\n",
    "match = reg.match(car_id)\n",
    "if match:\n",
    "    print(f\"Результат: Номер {car_id} валиден. Регион: {match['reg']}\")\n",
    "else:\n",
    "    print(f\"Результат: Номер {car_id} не валиден\")"
   ]
  },
  {
   "cell_type": "code",
   "execution_count": 10,
   "metadata": {
    "scrolled": true
   },
   "outputs": [
    {
     "name": "stdout",
     "output_type": "stream",
     "text": [
      "Введите номер: А222ВВ193\n",
      "Результат: Номер А222ВВ193 валиден. Регион: 193\n"
     ]
    }
   ],
   "source": [
    "import re \n",
    "car_id = input(\"Введите номер: \")\n",
    "reg = re.compile(r'^[АВЕКМНОРСТУХ]\\d{3}[АВЕКМНОРСТУХ]{2}(?P<reg>\\d{2,3})$')\n",
    "match = reg.match(car_id)\n",
    "if match:\n",
    "    print(f\"Результат: Номер {car_id} валиден. Регион: {match['reg']}\")\n",
    "else:\n",
    "    print(f\"Результат: Номер {car_id} не валиден\")"
   ]
  }
 ],
 "metadata": {
  "kernelspec": {
   "display_name": "Python 3",
   "language": "python",
   "name": "python3"
  },
  "language_info": {
   "codemirror_mode": {
    "name": "ipython",
    "version": 3
   },
   "file_extension": ".py",
   "mimetype": "text/x-python",
   "name": "python",
   "nbconvert_exporter": "python",
   "pygments_lexer": "ipython3",
   "version": "3.7.6"
  }
 },
 "nbformat": 4,
 "nbformat_minor": 4
}
