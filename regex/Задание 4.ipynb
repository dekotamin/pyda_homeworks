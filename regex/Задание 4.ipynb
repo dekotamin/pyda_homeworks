{
 "cells": [
  {
   "cell_type": "code",
   "execution_count": 37,
   "metadata": {},
   "outputs": [
    {
     "name": "stdout",
     "output_type": "stream",
     "text": [
      "@ya.ru 2\n",
      "@gmail.com 2\n",
      "@mail.ru 2\n",
      "@test.in 2\n"
     ]
    }
   ],
   "source": [
    "import re\n",
    "emails = re.findall(r'@\\w+.\\w+','test@gmail.com, xyz@test.in, test@ya.ru, xyz@mail.ru, xyz@ya.ru’, xyz@gmail.com')\n",
    "for key in set(emails):\n",
    "    print(key, emails.count(value))"
   ]
  }
 ],
 "metadata": {
  "kernelspec": {
   "display_name": "Python 3",
   "language": "python",
   "name": "python3"
  },
  "language_info": {
   "codemirror_mode": {
    "name": "ipython",
    "version": 3
   },
   "file_extension": ".py",
   "mimetype": "text/x-python",
   "name": "python",
   "nbconvert_exporter": "python",
   "pygments_lexer": "ipython3",
   "version": "3.7.6"
  }
 },
 "nbformat": 4,
 "nbformat_minor": 4
}
