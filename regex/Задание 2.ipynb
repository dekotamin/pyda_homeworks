{
 "cells": [
  {
   "cell_type": "code",
   "execution_count": 13,
   "metadata": {},
   "outputs": [
    {
     "name": "stdout",
     "output_type": "stream",
     "text": [
      "%2%2%2%2%2%2%2%2 %2%2%2%2%2%2%2 %2%2%2%2%2%2%2, %2%2%2%2%2%2%2 %2%2%2%2%2 %2%2%2%2%2 %2%2%2%2%2 %2%2%2%2%2 %2%2%2%2%2%2%2 %2%2%2 %2%2%2 %2%2%2 %2%2%2 %2%2%2%2%2%2%2%2%2%2%2%2%2%2%2%2 %2%2%2%2%2%2%2 %2%2%2%2 %2%2 %2%2 %2%2 %2%2 %2%2%2%2%2%2%2%2 %2%2%2%2%2%2 %2%2%2%2%2%2 %2%2%2 %2%2%2%2%2%2 %2%2%2%2%2%2%2%2%2%2 %2%2%2%2%2%2%2%2%2\n"
     ]
    }
   ],
   "source": [
    "import re\n",
    "some_string ='Напишите функцию функцию, которая будет будет будет будет удалять все все все все последовательные повторы слов из из из из заданной строки строки при помощи регулярных выражений'\n",
    "some_string = re.sub(r'[\\w]','', some_string)\n",
    "print(some_string)"
   ]
  }
 ],
 "metadata": {
  "kernelspec": {
   "display_name": "Python 3",
   "language": "python",
   "name": "python3"
  },
  "language_info": {
   "codemirror_mode": {
    "name": "ipython",
    "version": 3
   },
   "file_extension": ".py",
   "mimetype": "text/x-python",
   "name": "python",
   "nbconvert_exporter": "python",
   "pygments_lexer": "ipython3",
   "version": "3.7.6"
  }
 },
 "nbformat": 4,
 "nbformat_minor": 4
}
