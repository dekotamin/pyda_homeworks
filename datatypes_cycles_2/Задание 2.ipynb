{
 "cells": [
  {
   "cell_type": "code",
   "execution_count": 119,
   "metadata": {},
   "outputs": [
    {
     "name": "stdout",
     "output_type": "stream",
     "text": [
      "Поисковых запросов, содержащих 3 слов(а): 30.4 %\n",
      "Поисковых запросов, содержащих 2 слов(а): 50.0 %\n",
      "Поисковых запросов, содержащих 1 слов(а): 70.0 %\n",
      "Поисковых запросов, содержащих 2 слов(а): 58.3 %\n",
      "Поисковых запросов, содержащих 3 слов(а): 38.9 %\n",
      "Поисковых запросов, содержащих 2 слов(а): 50.0 %\n",
      "Поисковых запросов, содержащих 2 слов(а): 41.2 %\n"
     ]
    }
   ],
   "source": [
    "queries = [\n",
    "'смотреть сериалы онлайн',\n",
    "'новости спорта',\n",
    "'афиша кино',\n",
    "'курс доллара',\n",
    "'сериалы этим летом',\n",
    "'курс по питону',\n",
    "'сериалы про спорт']\n",
    "for value in queries:\n",
    "    percent = round(len(queries)/len(value)*100, 1)\n",
    "    word = round(len(value) / len(queries))\n",
    "    print('Поисковых запросов, содержащих', word, 'слов(а):', percent ,'%')"
   ]
  }
 ],
 "metadata": {
  "kernelspec": {
   "display_name": "Python 3",
   "language": "python",
   "name": "python3"
  },
  "language_info": {
   "codemirror_mode": {
    "name": "ipython",
    "version": 3
   },
   "file_extension": ".py",
   "mimetype": "text/x-python",
   "name": "python",
   "nbconvert_exporter": "python",
   "pygments_lexer": "ipython3",
   "version": "3.7.6"
  }
 },
 "nbformat": 4,
 "nbformat_minor": 4
}
