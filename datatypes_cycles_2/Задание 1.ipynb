{
 "cells": [
  {
   "cell_type": "code",
   "execution_count": 272,
   "metadata": {
    "scrolled": false
   },
   "outputs": [
    {
     "name": "stdout",
     "output_type": "stream",
     "text": [
      "Уникальные гео-метки пользователей [15, 35, 54, 98, 119, 213]\n"
     ]
    }
   ],
   "source": [
    "ids = {\"user1\": (213, 213, 213, 15, 213),\n",
    "\"user2\": (54, 54, 119, 119, 119),\n",
    "\"user3\": (213, 98, 98, 35)}\n",
    "set_ids = []\n",
    "for value in ids.values():\n",
    "    set_ids.extend(value)\n",
    "print(\"Уникальные гео-метки пользователей\", sorted(set(set_ids)))"
   ]
  }
 ],
 "metadata": {
  "kernelspec": {
   "display_name": "Python 3",
   "language": "python",
   "name": "python3"
  },
  "language_info": {
   "codemirror_mode": {
    "name": "ipython",
    "version": 3
   },
   "file_extension": ".py",
   "mimetype": "text/x-python",
   "name": "python",
   "nbconvert_exporter": "python",
   "pygments_lexer": "ipython3",
   "version": "3.7.6"
  }
 },
 "nbformat": 4,
 "nbformat_minor": 4
}
