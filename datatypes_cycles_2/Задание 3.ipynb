{
 "cells": [
  {
   "cell_type": "code",
   "execution_count": 69,
   "metadata": {},
   "outputs": [
    {
     "name": "stdout",
     "output_type": "stream",
     "text": [
      "vk {'revenue': 103, 'cost': 98} ROI 5.1\n",
      "yandex {'revenue': 179, 'cost': 153} ROI 16.99\n",
      "facebook {'revenue': 103, 'cost': 110} ROI -6.36\n",
      "adwords {'revenue': 35, 'cost': 34} ROI 2.94\n",
      "twitter {'revenue': 11, 'cost': 24} ROI -54.17\n"
     ]
    }
   ],
   "source": [
    "results = {\n",
    "    'vk': {'revenue': 103, 'cost': 98},\n",
    "    'yandex': {'revenue': 179, 'cost': 153},\n",
    "    'facebook': {'revenue': 103, 'cost': 110},\n",
    "    'adwords': {'revenue': 35, 'cost': 34},\n",
    "    'twitter': {'revenue': 11, 'cost': 24},}\n",
    "for key, value in results.items():\n",
    "    ROI = round((value['revenue'] / value['cost'] - 1)*100, 2)\n",
    "    print(key, value, 'ROI', ROI)    "
   ]
  }
 ],
 "metadata": {
  "kernelspec": {
   "display_name": "Python 3",
   "language": "python",
   "name": "python3"
  },
  "language_info": {
   "codemirror_mode": {
    "name": "ipython",
    "version": 3
   },
   "file_extension": ".py",
   "mimetype": "text/x-python",
   "name": "python",
   "nbconvert_exporter": "python",
   "pygments_lexer": "ipython3",
   "version": "3.7.6"
  }
 },
 "nbformat": 4,
 "nbformat_minor": 4
}
