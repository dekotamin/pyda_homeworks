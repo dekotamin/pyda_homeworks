{
 "cells": [
  {
   "cell_type": "code",
   "execution_count": 81,
   "metadata": {},
   "outputs": [
    {
     "name": "stdout",
     "output_type": "stream",
     "text": [
      "Thailand - 23.9,C\n",
      "Germany - 13.8,C\n",
      "Russia - 3.7,C\n",
      "Poland - 12.0,C\n"
     ]
    }
   ],
   "source": [
    "countries_temperature = [ \n",
    "['Thailand', [75.2, 77, 78.8, 73.4, 68, 75.2, 77]], \n",
    "['Germany', [57.2, 55.4, 59, 59, 53.6]], \n",
    "['Russia', [35.6, 37.4, 39.2, 41, 42.8, 39.2, 35.6]], \n",
    "['Poland', [50, 50, 53.6, 57.2, 55.4, 55.4]] \n",
    "]                                                      \n",
    "\n",
    "for key, value in countries_temperature: \n",
    "    c_temps_avg = sum(value) / len(value) \n",
    "    print(f'{key} - {round(5*(c_temps_avg-32)/9, 1)},C')"
   ]
  }
 ],
 "metadata": {
  "kernelspec": {
   "display_name": "Python 3",
   "language": "python",
   "name": "python3"
  },
  "language_info": {
   "codemirror_mode": {
    "name": "ipython",
    "version": 3
   },
   "file_extension": ".py",
   "mimetype": "text/x-python",
   "name": "python",
   "nbconvert_exporter": "python",
   "pygments_lexer": "ipython3",
   "version": "3.7.6"
  }
 },
 "nbformat": 4,
 "nbformat_minor": 4
}
