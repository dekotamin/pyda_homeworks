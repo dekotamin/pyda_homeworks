{
 "cells": [
  {
   "cell_type": "code",
   "execution_count": null,
   "metadata": {},
   "outputs": [],
   "source": [
    "ent_Str = input(\"Введите слово: \")\n",
    " \n",
    "fst_Str = len(ent_Str)\n",
    "good_Str = fst_Str / 2\n",
    "if fst_Str % 2 == 0:\n",
    "    print(ent_Str[int(good_Str)-1:int(good_Str)])\n",
    "elif fst_Str % 2 != 0:\n",
    "    print(ent_Str[int(good_Str):int(good_Str)])"
   ]
  }
 ],
 "metadata": {
  "kernelspec": {
   "display_name": "Python 3",
   "language": "python",
   "name": "python3"
  },
  "language_info": {
   "codemirror_mode": {
    "name": "ipython",
    "version": 3
   },
   "file_extension": ".py",
   "mimetype": "text/x-python",
   "name": "python",
   "nbconvert_exporter": "python",
   "pygments_lexer": "ipython3",
   "version": "3.7.6"
  }
 },
 "nbformat": 4,
 "nbformat_minor": 4
}
