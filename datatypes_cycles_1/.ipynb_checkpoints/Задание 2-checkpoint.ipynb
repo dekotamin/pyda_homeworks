{
 "cells": [
  {
   "cell_type": "code",
   "execution_count": 35,
   "metadata": {
    "scrolled": true
   },
   "outputs": [
    {
     "name": "stdout",
     "output_type": "stream",
     "text": [
      "Введите число: 1\n",
      "\n",
      "\n"
     ]
    }
   ],
   "source": [
    "number = input(\"Введите число: \")\n",
    "numeric = []\n",
    "for numeric in number:\n",
    "    if numeric == \"0\":\n",
    "        print(\"Результат: 0\")\n",
    "        break\n",
    "    print() \n",
    "else:\n",
    "    print()"
   ]
  }
 ],
 "metadata": {
  "language_info": {
   "codemirror_mode": {
    "name": "ipython",
    "version": 3
   },
   "file_extension": ".py",
   "mimetype": "text/x-python",
   "name": "python",
   "nbconvert_exporter": "python",
   "pygments_lexer": "ipython3",
   "version": "3.7.6"
  }
 },
 "nbformat": 4,
 "nbformat_minor": 4
}
