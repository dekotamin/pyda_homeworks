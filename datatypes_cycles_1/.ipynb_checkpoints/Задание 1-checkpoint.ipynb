{
 "cells": [
  {
   "cell_type": "code",
   "execution_count": 2,
   "metadata": {},
   "outputs": [
    {
     "name": "stdout",
     "output_type": "stream",
     "text": [
      "Введите слово: word\n",
      "o\n"
     ]
    }
   ],
   "source": [
    "ent_str = input(\"Введите слово: \")\n",
    " \n",
    "fst_str = len(ent_str)\n",
    "good_str = fst_str / 2\n",
    "if fst_str % 2 == 0:\n",
    "    print(ent_str[int(good_str)-1:int(good_str)])\n",
    "elif fst_str % 2 != 0:\n",
    "    print(ent_str[int(good_str):int(good_str)])"
   ]
  },
  {
   "cell_type": "code",
   "execution_count": null,
   "metadata": {},
   "outputs": [],
   "source": []
  }
 ],
 "metadata": {
  "kernelspec": {
   "display_name": "Python 3",
   "language": "python",
   "name": "python3"
  },
  "language_info": {
   "codemirror_mode": {
    "name": "ipython",
    "version": 3
   },
   "file_extension": ".py",
   "mimetype": "text/x-python",
   "name": "python",
   "nbconvert_exporter": "python",
   "pygments_lexer": "ipython3",
   "version": "3.7.6"
  }
 },
 "nbformat": 4,
 "nbformat_minor": 4
}
