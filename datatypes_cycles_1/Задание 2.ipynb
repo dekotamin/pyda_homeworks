{
 "cells": [
  {
   "cell_type": "code",
   "execution_count": null,
   "metadata": {
    "scrolled": true
   },
   "outputs": [],
   "source": [
    "number = int(input(\"Введите число: \"))\n",
    "numeric = []\n",
    "while number != 0:\n",
    "    if number > 0:\n",
    "       number = int(input())\n",
    "       numeric.append(number)\n",
    "    print(number)\n",
    "else:\n",
    "    print('Результат: ', sum(numeric))"
   ]
  }
 ],
 "metadata": {
  "language_info": {
   "codemirror_mode": {
    "name": "ipython",
    "version": 3
   },
   "file_extension": ".py",
   "mimetype": "text/x-python",
   "name": "python",
   "nbconvert_exporter": "python",
   "pygments_lexer": "ipython3",
   "version": "3.7.6"
  }
 },
 "nbformat": 4,
 "nbformat_minor": 4
}
