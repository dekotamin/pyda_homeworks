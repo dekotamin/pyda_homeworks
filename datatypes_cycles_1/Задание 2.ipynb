{
 "cells": [
  {
   "cell_type": "code",
   "execution_count": null,
   "metadata": {},
   "outputs": [],
   "source": [
    "number = input()\n",
    "while input() > 0:\n",
    "    print(input())\n",
    "    \n",
    "    if input() == 0:\n",
    "        break\n",
    "    \n",
    "    input += input"
   ]
  }
 ],
 "metadata": {
  "language_info": {
   "codemirror_mode": {
    "name": "ipython",
    "version": 3
   },
   "file_extension": ".py",
   "mimetype": "text/x-python",
   "name": "python",
   "nbconvert_exporter": "python",
   "pygments_lexer": "ipython3",
   "version": "3.7.6"
  }
 },
 "nbformat": 4,
 "nbformat_minor": 4
}
