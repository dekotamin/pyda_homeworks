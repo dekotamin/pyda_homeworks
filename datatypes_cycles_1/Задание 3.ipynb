{
 "cells": [
  {
   "cell_type": "code",
   "execution_count": 49,
   "metadata": {
    "scrolled": true
   },
   "outputs": [
    {
     "name": "stdout",
     "output_type": "stream",
     "text": [
      "Идеальные пары:Peter Kate\n",
      "Идеальные пары:Alex Liza\n",
      "Идеальные пары:John Kira\n",
      "Идеальные пары:Arthur Emma\n",
      "Идеальные пары:Richard Trisha\n"
     ]
    }
   ],
   "source": [
    "boys = ['Peter', 'Alex', 'John', 'Arthur', 'Richard']\n",
    "girls = ['Kate', 'Liza', 'Kira', 'Emma', 'Trisha']\n",
    "for i, j in zip(boys, girls):\n",
    "    len(boys) == len(girls)\n",
    "    if len(boys) > len(girls):\n",
    "        print(\"Внимание кто-то может остаться без пары!\")\n",
    "    elif len(boys) < len(girls):\n",
    "        print(\"Внимание кто-то может остаться без пары!\")\n",
    "    else:\n",
    "        print(\"Идеальные пары:\" + i,j)"
   ]
  }
 ],
 "metadata": {
  "kernelspec": {
   "display_name": "Python 3",
   "language": "python",
   "name": "python3"
  },
  "language_info": {
   "codemirror_mode": {
    "name": "ipython",
    "version": 3
   },
   "file_extension": ".py",
   "mimetype": "text/x-python",
   "name": "python",
   "nbconvert_exporter": "python",
   "pygments_lexer": "ipython3",
   "version": "3.7.6"
  }
 },
 "nbformat": 4,
 "nbformat_minor": 4
}
