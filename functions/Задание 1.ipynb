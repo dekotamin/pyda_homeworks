{
 "cells": [
  {
   "cell_type": "code",
   "execution_count": 105,
   "metadata": {},
   "outputs": [
    {
     "name": "stdout",
     "output_type": "stream",
     "text": [
      "Введите команду: l\n",
      "passport 2207 876234 Василий Гупкин\n",
      "invoice 11-2 Геннадий Покемонов\n",
      "insurance 10006 Аристарх Павлов\n"
     ]
    }
   ],
   "source": [
    "documents = [{'type': 'passport', 'number': '2207 876234', 'name': 'Василий Гупкин'},\n",
    "{'type': 'invoice', 'number': '11-2', 'name': 'Геннадий Покемонов'},\n",
    "{'type': 'insurance', 'number': '10006', 'name': 'Аристарх Павлов'}]\n",
    "directories = {\n",
    "'1': ['2207876234', '11-2'],\n",
    "'2': ['10006'],\n",
    "'3': []\n",
    "}\n",
    "def name():\n",
    "    doc = input(\"Введите номер документа: \" , )\n",
    "    for value in documents:\n",
    "        if doc in list(values()):\n",
    "            print(['name'])\n",
    "    else:\n",
    "            print('Нет такого документа!')\n",
    "    return   \n",
    "\n",
    "def shelf():   \n",
    "    doc = input(\"Введите номер документа: \" , )\n",
    "    for key in directories:\n",
    "        if doc in key:\n",
    "            print (\"Номер полки:\", directories.keys()[directories.values()])\n",
    "    else:\n",
    "            print('Нет такого документа!')\n",
    "    \n",
    "    return\n",
    "\n",
    "def all_l():   \n",
    "    if command == 'l':\n",
    "        for k in documents:\n",
    "            print (' '.join(list(k.values())))\n",
    "    return        \n",
    "\n",
    "def add_s():   \n",
    "    shelf = input(\"Введите номер полки: \")\n",
    "    if shelf not in directories.keys():\n",
    "        directories[shelf] = []\n",
    "        print (directories)\n",
    "    else:\n",
    "        print (\"Такая полка уже существует\")\n",
    "    return     \n",
    "\n",
    "def del_ds():   \n",
    "    doc = input(\"Введите номер полки: \")\n",
    "    a = list(directories.values())\n",
    "    if doc in a:\n",
    "            print (\"На полке есть документы, удалите их перед удалением полки. Текущий перечень полок: \", list(directories.keys()))\n",
    "    else: \n",
    "        del(directories[doc])\n",
    "        print (\"Полка удалена. Текущий перечень полок:\", list(directories.keys()))\n",
    "    return     \n",
    "\n",
    "command = input(\"Введите команду: \")\n",
    "list_of_com = ['p', 'l', 's', 'as', 'ds']\n",
    "if command not in list_of_com:\n",
    "    print ('Нет такой команды, только:p,l,s,as,ds')\n",
    "elif command == 'p':\n",
    "    name()\n",
    "elif command == 'l':\n",
    "    all_l()\n",
    "elif command == 's':\n",
    "    shelf()\n",
    "elif command == 'as':\n",
    "    add_s()\n",
    "elif command == 'ds':\n",
    "    del_ds()"
   ]
  }
 ],
 "metadata": {
  "kernelspec": {
   "display_name": "Python 3",
   "language": "python",
   "name": "python3"
  },
  "language_info": {
   "codemirror_mode": {
    "name": "ipython",
    "version": 3
   },
   "file_extension": ".py",
   "mimetype": "text/x-python",
   "name": "python",
   "nbconvert_exporter": "python",
   "pygments_lexer": "ipython3",
   "version": "3.7.6"
  }
 },
 "nbformat": 4,
 "nbformat_minor": 4
}
